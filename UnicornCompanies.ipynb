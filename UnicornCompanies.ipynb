{
  "nbformat": 4,
  "nbformat_minor": 0,
  "metadata": {
    "colab": {
      "provenance": [],
      "authorship_tag": "ABX9TyNgqYrn57jnVrWtDiJf1i9Z"
    },
    "kernelspec": {
      "name": "python3",
      "display_name": "Python 3"
    },
    "language_info": {
      "name": "python"
    }
  },
  "cells": [
    {
      "cell_type": "code",
      "execution_count": null,
      "metadata": {
        "id": "y7aL_ASlS5SY"
      },
      "outputs": [],
      "source": [
        "#bibliotecas\n",
        "import numpy as np\n",
        "import pandas as pd\n",
        "import matplotlib.pyplot as plt\n",
        "import seaborn as sns\n",
        "import warnings"
      ]
    },
    {
      "cell_type": "code",
      "source": [
        "#carregando o csv \n",
        "db = pd.read_csv('Startups+in+2021+end.csv')"
      ],
      "metadata": {
        "id": "aPYVUZ5_UHxf"
      },
      "execution_count": null,
      "outputs": []
    },
    {
      "cell_type": "code",
      "source": [
        "#visualizando a estrutura dos dados\n",
        "db.head()"
      ],
      "metadata": {
        "id": "H-33aH1nUe2h"
      },
      "execution_count": null,
      "outputs": []
    },
    {
      "cell_type": "code",
      "source": [
        "db.columns"
      ],
      "metadata": {
        "id": "PK0wbhDnVBPW"
      },
      "execution_count": null,
      "outputs": []
    },
    {
      "cell_type": "code",
      "source": [
        "#renomeando as colunas\n",
        "db.rename(columns={\n",
        "    'Unnamed: 0' : 'Id',\n",
        "    'Company' : 'Company',\n",
        "    'Valuation ($B)' : 'Valuation',\n",
        "    'Date Joined' : 'Date',\n",
        "    'Country' : 'Country',\n",
        "    'City' : 'City',\n",
        "    'Industry' : 'Industry',\n",
        "    'Select Investors' : 'Investors',\n",
        "}, inplace=True)"
      ],
      "metadata": {
        "id": "PmjaEzJsVON9"
      },
      "execution_count": null,
      "outputs": []
    },
    {
      "cell_type": "code",
      "source": [
        "db.info()"
      ],
      "metadata": {
        "id": "ByvyqGAtWIc6"
      },
      "execution_count": null,
      "outputs": []
    },
    {
      "cell_type": "code",
      "source": [
        "#analise grafica dos campos nulos\n",
        "plt.figure(figsize=(15,6))\n",
        "plt.title('null')\n",
        "sns.heatmap(db.isnull(), cbar=False)"
      ],
      "metadata": {
        "id": "lX4XiJ7zWbaE"
      },
      "execution_count": null,
      "outputs": []
    },
    {
      "cell_type": "code",
      "source": [
        "db.nunique()"
      ],
      "metadata": {
        "id": "WskEz_XWW7pD"
      },
      "execution_count": null,
      "outputs": []
    },
    {
      "cell_type": "code",
      "source": [
        "#analise dos principais setores\n",
        "db['Industry'].value_counts()"
      ],
      "metadata": {
        "id": "vVMtFE7fXpXd"
      },
      "execution_count": null,
      "outputs": []
    },
    {
      "cell_type": "code",
      "source": [
        "#analise grafica dos principais setores\n",
        "plt.figure(figsize=(15,6))\n",
        "plt.title('Analise dos setores')\n",
        "plt.bar(db['Industry'].value_counts().index, db['Industry'].value_counts())\n",
        "plt.xticks(rotation=45,ha='right')"
      ],
      "metadata": {
        "id": "XgsNOGiQXy3i"
      },
      "execution_count": null,
      "outputs": []
    },
    {
      "cell_type": "code",
      "source": [
        "#analisando os países\n",
        "countries = round(db['Country'].value_counts(normalize=True) * 100,1)\n",
        "plt.figure(figsize=(15,6))\n",
        "plt.title('Analise dos paises geradores de Unicornios - Top 10')\n",
        "plt.pie(\n",
        "    countries.head(10),\n",
        "    labels= countries.index[0:10],\n",
        "    shadow=True,\n",
        "    startangle=90,\n",
        "    autopct='%1.1f%%'\n",
        ");"
      ],
      "metadata": {
        "id": "_qCccSddZWQr"
      },
      "execution_count": null,
      "outputs": []
    },
    {
      "cell_type": "code",
      "source": [
        "#alterando o campo data de object para datetime\n",
        "db['Date'] = pd.to_datetime(db['Date'])\n",
        "db['Date'].head()"
      ],
      "metadata": {
        "id": "WVSKnxqzbMYG"
      },
      "execution_count": null,
      "outputs": []
    },
    {
      "cell_type": "code",
      "source": [
        "#extraindo o mes e o ano para futuras analises\n",
        "db['month'] = pd.DatetimeIndex(db['Date']).month\n",
        "db['year'] = pd.DatetimeIndex(db['Date']).year\n",
        "db.head()"
      ],
      "metadata": {
        "id": "KcukRO4ldUR6"
      },
      "execution_count": null,
      "outputs": []
    },
    {
      "cell_type": "code",
      "source": [
        "#agrupando e gerando a tabela analitica das empresas unicornios brasileiras\n",
        "gb = db.groupby(by=['Country','year','month','Company']).count()['Id'].reset_index()\n",
        "gb.loc[\n",
        "    gb['Country'] == 'Brazil'\n",
        "]"
      ],
      "metadata": {
        "id": "0h7ADpjldxXE"
      },
      "execution_count": null,
      "outputs": []
    },
    {
      "cell_type": "code",
      "source": [
        "#alterando o campo valuation para numerico\n",
        "db['Valuation'] = pd.to_numeric(db['Valuation'].apply(lambda Linha: Linha.replace('$', '')))\n",
        "db.head()"
      ],
      "metadata": {
        "id": "H0XmKNykgM7U"
      },
      "execution_count": null,
      "outputs": []
    },
    {
      "cell_type": "code",
      "source": [
        "#descobrindo o valuation de cada pais - do maior ao menor\n",
        "countries = db.groupby(by=['Country']).sum()['Valuation'].reset_index()\n",
        "countries_valuation = countries.sort_values('Valuation', ascending=False)\n",
        "plt.figure(figsize=(15,6))\n",
        "plt.plot(\n",
        "    countries_valuation['Country'],\n",
        "    countries_valuation['Valuation']\n",
        ")\n",
        "plt.xticks(rotation=45, ha='right');"
      ],
      "metadata": {
        "id": "zQO3Wt2Xh8eT"
      },
      "execution_count": null,
      "outputs": []
    },
    {
      "cell_type": "code",
      "source": [],
      "metadata": {
        "id": "d-kXgChCxgoY"
      },
      "execution_count": null,
      "outputs": []
    }
  ]
}